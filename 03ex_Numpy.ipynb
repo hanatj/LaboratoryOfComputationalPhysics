{
 "cells": [
  {
   "cell_type": "markdown",
   "metadata": {},
   "source": [
    "### Numpy basics"
   ]
  },
  {
   "cell_type": "markdown",
   "metadata": {},
   "source": [
    "1\\. Find the row, column and overall means for the following matrix:\n",
    "\n",
    "```python\n",
    "m = np.arange(12).reshape((3,4))\n",
    "```"
   ]
  },
  {
   "cell_type": "code",
   "execution_count": 1,
   "metadata": {},
   "outputs": [
    {
     "name": "stdout",
     "output_type": "stream",
     "text": [
      "[[ 0  1  2  3]\n",
      " [ 4  5  6  7]\n",
      " [ 8  9 10 11]]\n",
      "[1.5 5.5 9.5]\n",
      "[4. 5. 6. 7.]\n",
      "5.0\n",
      "5.5\n"
     ]
    }
   ],
   "source": [
    "import numpy as np\n",
    "m = np.arange(12).reshape((3,4))\n",
    "print(m)\n",
    "r=m.mean(axis=1)\n",
    "print(r)\n",
    "c=m.mean(axis=0)\n",
    "print(c)\n",
    "d=np.mean(m.diagonal())\n",
    "print(d)\n",
    "all=m.mean()\n",
    "print(all)"
   ]
  },
  {
   "cell_type": "markdown",
   "metadata": {},
   "source": [
    "2\\. Find the outer product of the following two vecotrs\n",
    "\n",
    "```python\n",
    "u = np.array([1,3,5,7])\n",
    "v = np.array([2,4,6,8])\n",
    "```\n",
    "\n",
    "Do this in the following ways:\n",
    "\n",
    "   * Using the function outer in numpy\n",
    "   * Using a nested for loop or list comprehension\n",
    "   * Using numpy broadcasting operatoins\n"
   ]
  },
  {
   "cell_type": "code",
   "execution_count": 43,
   "metadata": {},
   "outputs": [
    {
     "name": "stdout",
     "output_type": "stream",
     "text": [
      "[[ 2  4  6  8]\n",
      " [ 6 12 18 24]\n",
      " [10 20 30 40]\n",
      " [14 28 42 56]]\n",
      "[[  2.   4.   6.   8.]\n",
      " [  6.  12.  18.  24.]\n",
      " [ 10.  20.  30.  40.]\n",
      " [ 14.  28.  42.  56.]]\n",
      "[[ 2  4  6  8]\n",
      " [ 6 12 18 24]\n",
      " [10 20 30 40]\n",
      " [14 28 42 56]]\n"
     ]
    }
   ],
   "source": [
    "u = np.array([1,3,5,7])\n",
    "v = np.array([2,4,6,8])\n",
    "rl = np.outer(u,v)\n",
    "print(rl)\n",
    "x= np.ones((4,4))\n",
    "for i in range(len(u)):\n",
    "    for j in range(len(v)):\n",
    "        x[i,j] = u[i]*v[j]\n",
    "print(x)\n",
    "y=u[:, np.newaxis] * v\n",
    "print(y)"
   ]
  },
  {
   "cell_type": "markdown",
   "metadata": {},
   "source": [
    "3\\. Create a 10 by 6 matrix of random uniform numbers. Set all rows with any entry less than 0.1 to be zero\n",
    "\n",
    "Hint: Use the following numpy functions - np.random.random, np.any as well as Boolean indexing and the axis argument."
   ]
  },
  {
   "cell_type": "code",
   "execution_count": 4,
   "metadata": {},
   "outputs": [
    {
     "name": "stdout",
     "output_type": "stream",
     "text": [
      "[[0.34017285 0.34553401 0.65310388 0.66722185 0.7114251  0.4850606 ]\n",
      " [0.67903423 0.7629408  0.65225194 0.52748586 0.84549964 0.60528267]\n",
      " [0.97796005 0.         0.         0.34456534 0.59599173 0.17948955]\n",
      " [0.16809222 0.73341946 0.39156608 0.6571465  0.44927732 0.        ]\n",
      " [0.76728672 0.87784294 0.71281101 0.         0.15583428 0.        ]\n",
      " [0.97746563 0.72936006 0.60718569 0.9063281  0.         0.78118254]\n",
      " [0.24958202 0.39007723 0.94963503 0.46194033 0.54470015 0.4115796 ]\n",
      " [0.31520195 0.315683   0.         0.20961696 0.65486826 0.        ]\n",
      " [0.52752981 0.54078154 0.42004496 0.40805506 0.57404041 0.20093274]\n",
      " [0.65927307 0.66660868 0.42017485 0.921453   0.96580534 0.59331121]]\n"
     ]
    }
   ],
   "source": [
    "import numpy.random as npr\n",
    "x=npr.rand(10,6)\n",
    "x[x<0.1]=0\n",
    "print(x)"
   ]
  },
  {
   "cell_type": "markdown",
   "metadata": {},
   "source": [
    "4\\. Use np.linspace to create an array of 100 numbers between 0 and 2π (includsive).\n",
    "\n",
    "  * Extract every 10th element using slice notation\n",
    "  * Reverse the array using slice notation\n",
    "  * Extract elements where the absolute difference between the sine and cosine functions evaluated at that element is less than 0.1\n",
    "  * Make a plot showing the sin and cos functions and indicate where they are close"
   ]
  },
  {
   "cell_type": "code",
   "execution_count": 11,
   "metadata": {
    "scrolled": true
   },
   "outputs": [
    {
     "name": "stdout",
     "output_type": "stream",
     "text": [
      "[0.         0.63466518 1.26933037 1.90399555 2.53866073 3.17332591\n",
      " 3.8079911  4.44265628 5.07732146 5.71198664]\n",
      "[6.28318531 6.21971879 6.15625227 6.09278575 6.02931923 5.96585272\n",
      " 5.9023862  5.83891968 5.77545316 5.71198664 5.64852012 5.58505361\n",
      " 5.52158709 5.45812057 5.39465405 5.33118753 5.26772102 5.2042545\n",
      " 5.14078798 5.07732146 5.01385494 4.95038842 4.88692191 4.82345539\n",
      " 4.75998887 4.69652235 4.63305583 4.56958931 4.5061228  4.44265628\n",
      " 4.37918976 4.31572324 4.25225672 4.1887902  4.12532369 4.06185717\n",
      " 3.99839065 3.93492413 3.87145761 3.8079911  3.74452458 3.68105806\n",
      " 3.61759154 3.55412502 3.4906585  3.42719199 3.36372547 3.30025895\n",
      " 3.23679243 3.17332591 3.10985939 3.04639288 2.98292636 2.91945984\n",
      " 2.85599332 2.7925268  2.72906028 2.66559377 2.60212725 2.53866073\n",
      " 2.47519421 2.41172769 2.34826118 2.28479466 2.22132814 2.15786162\n",
      " 2.0943951  2.03092858 1.96746207 1.90399555 1.84052903 1.77706251\n",
      " 1.71359599 1.65012947 1.58666296 1.52319644 1.45972992 1.3962634\n",
      " 1.33279688 1.26933037 1.20586385 1.14239733 1.07893081 1.01546429\n",
      " 0.95199777 0.88853126 0.82506474 0.76159822 0.6981317  0.63466518\n",
      " 0.57119866 0.50773215 0.44426563 0.38079911 0.31733259 0.25386607\n",
      " 0.19039955 0.12693304 0.06346652 0.        ]\n"
     ]
    },
    {
     "ename": "IndexError",
     "evalue": "index 12 is out of bounds for axis 0 with size 4",
     "output_type": "error",
     "traceback": [
      "\u001b[1;31m---------------------------------------------------------------------------\u001b[0m",
      "\u001b[1;31mIndexError\u001b[0m                                Traceback (most recent call last)",
      "\u001b[1;32m<ipython-input-11-9798b39495c2>\u001b[0m in \u001b[0;36m<module>\u001b[1;34m()\u001b[0m\n\u001b[0;32m     13\u001b[0m \u001b[1;32mfor\u001b[0m \u001b[0mi\u001b[0m \u001b[1;32min\u001b[0m \u001b[0mrange\u001b[0m\u001b[1;33m(\u001b[0m\u001b[0mlen\u001b[0m\u001b[1;33m(\u001b[0m\u001b[0mxs\u001b[0m\u001b[1;33m)\u001b[0m\u001b[1;33m)\u001b[0m\u001b[1;33m:\u001b[0m\u001b[1;33m\u001b[0m\u001b[0m\n\u001b[0;32m     14\u001b[0m     \u001b[1;32mif\u001b[0m \u001b[1;33m(\u001b[0m\u001b[0mnp\u001b[0m\u001b[1;33m.\u001b[0m\u001b[0mabsolute\u001b[0m\u001b[1;33m(\u001b[0m\u001b[0mys\u001b[0m\u001b[1;33m[\u001b[0m\u001b[0mi\u001b[0m\u001b[1;33m]\u001b[0m\u001b[1;33m-\u001b[0m\u001b[0mys2\u001b[0m\u001b[1;33m[\u001b[0m\u001b[0mi\u001b[0m\u001b[1;33m]\u001b[0m\u001b[1;33m)\u001b[0m\u001b[1;33m<\u001b[0m\u001b[1;36m0.1\u001b[0m\u001b[1;33m)\u001b[0m\u001b[1;33m:\u001b[0m\u001b[1;33m\u001b[0m\u001b[0m\n\u001b[1;32m---> 15\u001b[1;33m         \u001b[0mc\u001b[0m\u001b[1;33m[\u001b[0m\u001b[0mi\u001b[0m\u001b[1;33m]\u001b[0m\u001b[1;33m=\u001b[0m\u001b[0mi\u001b[0m\u001b[1;33m\u001b[0m\u001b[0m\n\u001b[0m\u001b[0;32m     16\u001b[0m \u001b[1;33m\u001b[0m\u001b[0m\n\u001b[0;32m     17\u001b[0m \u001b[0midx\u001b[0m \u001b[1;33m=\u001b[0m \u001b[0mnp\u001b[0m\u001b[1;33m.\u001b[0m\u001b[0margwhere\u001b[0m\u001b[1;33m(\u001b[0m\u001b[0mnp\u001b[0m\u001b[1;33m.\u001b[0m\u001b[0mdiff\u001b[0m\u001b[1;33m(\u001b[0m\u001b[0mnp\u001b[0m\u001b[1;33m.\u001b[0m\u001b[0msign\u001b[0m\u001b[1;33m(\u001b[0m\u001b[0mys\u001b[0m \u001b[1;33m-\u001b[0m \u001b[0mys2\u001b[0m\u001b[1;33m)\u001b[0m\u001b[1;33m)\u001b[0m\u001b[1;33m)\u001b[0m\u001b[1;33m.\u001b[0m\u001b[0mflatten\u001b[0m\u001b[1;33m(\u001b[0m\u001b[1;33m)\u001b[0m\u001b[1;33m\u001b[0m\u001b[0m\n",
      "\u001b[1;31mIndexError\u001b[0m: index 12 is out of bounds for axis 0 with size 4"
     ]
    }
   ],
   "source": [
    "xs = np.linspace(0, 2*np.pi, 100)\n",
    "import matplotlib.pyplot as plt\n",
    "y=xs[::10]\n",
    "print(y)\n",
    "rev=xs[::-1]\n",
    "print(rev)\n",
    "\n",
    "%matplotlib inline \n",
    "# tell jupyter to plot inline\n",
    "\n",
    "ys = np.sin(xs) # np.sin is a universal function\n",
    "ys2 = np.cos(xs)\n",
    "for i in range(len(xs)):\n",
    "    if (np.absolute(ys[i]-ys2[i])<0.1):\n",
    "        c[i]=i\n",
    "        \n",
    "idx = np.argwhere(np.diff(np.sign(ys - ys2))).flatten()\n",
    "plt.plot(xs, ys,xs,ys2,xs[idx], ys[idx], 'ro');\n"
   ]
  },
  {
   "cell_type": "markdown",
   "metadata": {},
   "source": [
    "5\\. Create a matrix that shows the 10 by 10 multiplication table.\n",
    "\n",
    " * Find the trace of the matrix\n",
    " * Extract the anto-diagonal (this should be ```array([10, 18, 24, 28, 30, 30, 28, 24, 18, 10])```)\n",
    " * Extract the diagnoal offset by 1 upwards (this should be ```array([ 2,  6, 12, 20, 30, 42, 56, 72, 90])```)"
   ]
  },
  {
   "cell_type": "code",
   "execution_count": 71,
   "metadata": {},
   "outputs": [
    {
     "name": "stdout",
     "output_type": "stream",
     "text": [
      "[[   1.    2.    3.    4.    5.    6.    7.    8.    9.   10.]\n",
      " [   2.    4.    6.    8.   10.   12.   14.   16.   18.   20.]\n",
      " [   3.    6.    9.   12.   15.   18.   21.   24.   27.   30.]\n",
      " [   4.    8.   12.   16.   20.   24.   28.   32.   36.   40.]\n",
      " [   5.   10.   15.   20.   25.   30.   35.   40.   45.   50.]\n",
      " [   6.   12.   18.   24.   30.   36.   42.   48.   54.   60.]\n",
      " [   7.   14.   21.   28.   35.   42.   49.   56.   63.   70.]\n",
      " [   8.   16.   24.   32.   40.   48.   56.   64.   72.   80.]\n",
      " [   9.   18.   27.   36.   45.   54.   63.   72.   81.   90.]\n",
      " [  10.   20.   30.   40.   50.   60.   70.   80.   90.  100.]]\n",
      "[ 10.  18.  24.  28.  30.  30.  28.  24.  18.  10.]\n",
      "[   1.    4.    9.   16.   25.   36.   49.   64.   81.  100.]\n"
     ]
    }
   ],
   "source": [
    "x= np.ones((10,10))\n",
    "for i in range(len(x)):\n",
    "    for j in range(len(x)):\n",
    "        x[i,j] = (i+1)*(j+1)\n",
    "print(x)\n",
    "y=np.diag(x[::-1])\n",
    "print(y)\n",
    "z=np.tril(x)\n",
    "z2=np.diag(z)\n",
    "print(z2)"
   ]
  },
  {
   "cell_type": "markdown",
   "metadata": {},
   "source": [
    "6\\. Use broadcasting to create a grid of distances\n",
    "\n",
    "Route 66 crosses the following cities in the US: Chicago, Springfield, Saint-Louis, Tulsa, Oklahoma City, Amarillo, Santa Fe, Albuquerque, Flagstaff, Los Angeles\n",
    "The corresponding positions in miles are: 0, 198, 303, 736, 871, 1175, 1475, 1544, 1913, 2448\n",
    "\n",
    "  * Construct a 2D grid of distances among each city along Route 66\n",
    "  * Convert that in km (those savages...)"
   ]
  },
  {
   "cell_type": "code",
   "execution_count": 27,
   "metadata": {},
   "outputs": [
    {
     "name": "stdout",
     "output_type": "stream",
     "text": [
      "[[   0  198  303  736  871 1175 1475 1544 1913 2448]\n",
      " [ 198    0  105  538  673  977 1277 1346 1715 2250]\n",
      " [ 303  105    0  433  568  872 1172 1241 1610 2145]\n",
      " [ 736  538  433    0  135  439  739  808 1177 1712]\n",
      " [ 871  673  568  135    0  304  604  673 1042 1577]\n",
      " [1175  977  872  439  304    0  300  369  738 1273]\n",
      " [1475 1277 1172  739  604  300    0   69  438  973]\n",
      " [1544 1346 1241  808  673  369   69    0  369  904]\n",
      " [1913 1715 1610 1177 1042  738  438  369    0  535]\n",
      " [2448 2250 2145 1712 1577 1273  973  904  535    0]]\n",
      "[[   0.   316.8  484.8 1177.6 1393.6 1880.  2360.  2470.4 3060.8 3916.8]\n",
      " [ 316.8    0.   168.   860.8 1076.8 1563.2 2043.2 2153.6 2744.  3600. ]\n",
      " [ 484.8  168.     0.   692.8  908.8 1395.2 1875.2 1985.6 2576.  3432. ]\n",
      " [1177.6  860.8  692.8    0.   216.   702.4 1182.4 1292.8 1883.2 2739.2]\n",
      " [1393.6 1076.8  908.8  216.     0.   486.4  966.4 1076.8 1667.2 2523.2]\n",
      " [1880.  1563.2 1395.2  702.4  486.4    0.   480.   590.4 1180.8 2036.8]\n",
      " [2360.  2043.2 1875.2 1182.4  966.4  480.     0.   110.4  700.8 1556.8]\n",
      " [2470.4 2153.6 1985.6 1292.8 1076.8  590.4  110.4    0.   590.4 1446.4]\n",
      " [3060.8 2744.  2576.  1883.2 1667.2 1180.8  700.8  590.4    0.   856. ]\n",
      " [3916.8 3600.  3432.  2739.2 2523.2 2036.8 1556.8 1446.4  856.     0. ]]\n"
     ]
    }
   ],
   "source": [
    "d=np.array([0, 198, 303, 736, 871, 1175, 1475, 1544, 1913, 2448])\n",
    "print(abs(d[:, np.newaxis]-d))\n",
    "print(abs(d[:, np.newaxis]-d)*1.6)"
   ]
  },
  {
   "cell_type": "markdown",
   "metadata": {},
   "source": [
    "7\\. Prime numbers sieve: compute the prime numbers in the 0-N (N=99 to start with) range with a sieve (mask).\n",
    "  * Constract a shape (100,) boolean array, the mask\n",
    "  * Identify the multiples of each number starting from 2 and set accordingly the corresponding mask element\n",
    "  * Apply the mask to obtain an array of ordered prime numbers\n",
    "  * Check the performances (timeit); how does it scale with N?\n",
    "  * Implement the optimization suggested in the [sieve of Eratosthenes](https://en.wikipedia.org/wiki/Sieve_of_Eratosthenes)"
   ]
  },
  {
   "cell_type": "code",
   "execution_count": 46,
   "metadata": {},
   "outputs": [
    {
     "name": "stdout",
     "output_type": "stream",
     "text": [
      "[ 1  2  3  5  7 11 13 17 19 23 29 31 37 41 43 47 53 59 61 67 71 73 79 83\n",
      " 89 97]\n"
     ]
    }
   ],
   "source": [
    "def isPrime(n):\n",
    "    if (n<3):\n",
    "        return True\n",
    "    if (n%2==0):\n",
    "        return False\n",
    "    for i in range(2,n):\n",
    "        if(n%i==0):\n",
    "            return False\n",
    "    return True\n",
    "c=[]\n",
    "for i in range(1,100):\n",
    "     if (isPrime(i)):\n",
    "        c.append(i)\n",
    "arr = np.array(c)\n",
    "print(arr)"
   ]
  },
  {
   "cell_type": "markdown",
   "metadata": {},
   "source": [
    "8\\. Diffusion using random walk\n",
    "\n",
    "Consider a simple random walk process: at each step in time, a walker jumps right or left (+1 or -1) with equal probability. The goal is to find the typical distance from the origin of a random walker after a given amount of time. \n",
    "To do that, let's simulate many walkers and create a 2D array with each walker as a raw and the actual time evolution as columns\n",
    "\n",
    "  * Take 1000 walkers and let them walk for 200 steps\n",
    "  * Use randint to create a 2D array of size walkers x steps with values -1 or 1\n",
    "  * Build the actual walking distances for each walker (i.e. another 2D array \"summing on each raw\")\n",
    "  * Take the square of that 2D array (elementwise)\n",
    "  * Compute the mean of the squared distances at each step (i.e. the mean along the columns)\n",
    "  * Plot the average distances (sqrt(distance\\*\\*2)) as a function of time (step)\n",
    "  \n",
    "Did you get what you expected?"
   ]
  },
  {
   "cell_type": "code",
   "execution_count": 20,
   "metadata": {},
   "outputs": [
    {
     "name": "stdout",
     "output_type": "stream",
     "text": [
      "[[-1  1 -1 ... -1 -1  1]\n",
      " [ 1 -1 -1 ... -1  1  1]\n",
      " [-1 -1 -1 ... -1  1  1]\n",
      " ...\n",
      " [-1  1  1 ...  1 -1 -1]\n",
      " [ 1  1 -1 ...  1 -1 -1]\n",
      " [ 1 -1 -1 ... -1 -1  1]]\n",
      "[[ -1   0  -1 ... -18 -19 -18]\n",
      " [  1   0  -1 ...  -8  -7  -6]\n",
      " [ -1  -2  -3 ... -34 -33 -32]\n",
      " ...\n",
      " [ -1   0   1 ...  -4  -5  -6]\n",
      " [  1   2   1 ...  -4  -5  -6]\n",
      " [  1   0  -1 ...  -6  -7  -6]]\n"
     ]
    },
    {
     "data": {
      "text/plain": [
       "Text(0,0.5,'average distances')"
      ]
     },
     "execution_count": 20,
     "metadata": {},
     "output_type": "execute_result"
    },
    {
     "data": {
      "image/png": "[encoded data removed]",
      "text/plain": [
       "<Figure size 432x288 with 1 Axes>"
      ]
     },
     "metadata": {
      "needs_background": "light"
     },
     "output_type": "display_data"
    }
   ],
   "source": [
    "import matplotlib.pyplot as plt\n",
    "steps=np.random.randint(0,2,size=(1000,200))\n",
    "steps=steps*2-1\n",
    "print(steps)\n",
    "\n",
    "for i in range(0,1000):\n",
    "    countStep=0\n",
    "    for j in range(0,200):\n",
    "        countStep=countStep+steps[i,j]\n",
    "        steps[i,j]=countStep\n",
    "meanSq= np.mean(steps**2, axis=0)\n",
    "print(np.array(steps))\n",
    "stp= range(200)\n",
    "plt.plot(stp, meanSq);\n",
    "plt.xlabel('Steps(1:200)')\n",
    "plt.ylabel('average distances')\n"
   ]
  },
  {
   "cell_type": "markdown",
   "metadata": {},
   "source": [
    "9\\. Analyze a data file \n",
    "  * Download the population of hares, lynxes and carrots at the beginning of the last century.\n",
    "    ```python\n",
    "    ! wget https://www.dropbox.com/s/3vigxoqayo389uc/populations.txt\n",
    "    ```\n",
    "\n",
    "  * Check the content by looking within the file\n",
    "  * Load the data (use an appropriate numpy method) into a 2D array\n",
    "  * Create arrays out of the columns, the arrays being (in order): *year*, *hares*, *lynxes*, *carrots* \n",
    "  * Plot the 3 populations over the years\n",
    "  * Compute the main statistical properties of the dataset (mean, std, correlations, etc.)\n",
    "  * Which species has the highest population each year?\n",
    "\n",
    "Do you feel there is some evident correlation here? [Studies](https://www.enr.gov.nt.ca/en/services/lynx/lynx-snowshoe-hare-cycle) tend to believe so."
   ]
  },
  {
   "cell_type": "code",
   "execution_count": 56,
   "metadata": {
    "scrolled": true
   },
   "outputs": [
    {
     "name": "stdout",
     "output_type": "stream",
     "text": [
      "hares\n",
      "mean 34080.95238095238\n",
      "std 20897.906458089667\n",
      "median 25400.0\n",
      "min 7600.0\n",
      "max 77400.0\n",
      "\n",
      "\n",
      "lynxes\n",
      "mean 20166.666666666668\n",
      "std 16254.591536908763\n",
      "median 12300.0\n",
      "min 4000.0\n",
      "max 59400.0\n",
      "\n",
      "\n",
      "carrots\n",
      "mean 42400.0\n",
      "std 3322.5062255844787\n",
      "median 41800.0\n",
      "min 36700.0\n",
      "max 48300.0\n",
      "\n",
      "\n",
      "correlations: hares lynxes \n",
      " [[1.         0.07189206]\n",
      " [0.07189206 1.        ]] \n",
      "\n",
      "correlations: hares carrots \n",
      " [[ 1.         -0.01660378]\n",
      " [-0.01660378  1.        ]] \n",
      "\n",
      "correlations: carrots lynxes \n",
      " [[ 1.         -0.68057717]\n",
      " [-0.68057717  1.        ]] \n",
      "\n",
      "1900.0 carrots\n",
      "1901.0 carrots\n",
      "1902.0 hares\n",
      "1903.0 hares\n",
      "1904.0 lynxes\n",
      "1905.0 lynxes\n",
      "1906.0 carrots\n",
      "1907.0 carrots\n",
      "1908.0 carrots\n",
      "1909.0 carrots\n",
      "1910.0 carrots\n",
      "1911.0 carrots\n",
      "1912.0 hares\n",
      "1913.0 hares\n",
      "1914.0 hares\n",
      "1915.0 lynxes\n",
      "1916.0 carrots\n",
      "1917.0 carrots\n",
      "1918.0 carrots\n",
      "1919.0 carrots\n",
      "1920.0 carrots\n"
     ]
    },
    {
     "data": {
      "image/png": "[encoded data removed]",
      "text/plain": [
       "<Figure size 432x288 with 1 Axes>"
      ]
     },
     "metadata": {
      "needs_background": "light"
     },
     "output_type": "display_data"
    }
   ],
   "source": [
    "import matplotlib.pyplot as plt\n",
    "\n",
    "file_name = \"populations.txt\"\n",
    "data=np.loadtxt(file_name) #leggo il file e raccolgo in un array2D\n",
    "\n",
    "years=data[:,0]\n",
    "hares=data[:,1]\n",
    "lynxes=data[:,2]\n",
    "carrots=data[:,3]\n",
    "\n",
    "plt.plot(years, hares,years,lynxes,years, carrots);\n",
    "datasets={\n",
    "    \"hares\":hares,\n",
    "    \"lynxes\":lynxes,\n",
    "    \"carrots\":carrots\n",
    "}\n",
    "for dataset in [\"hares\", \"lynxes\", \"carrots\"]:\n",
    "    print(dataset)\n",
    "    for function in ['mean', 'std', 'median', 'min', 'max']:\n",
    "        print(function, getattr(np, function)(datasets[dataset]))\n",
    "    print('\\n')\n",
    "print('correlations: hares lynxes', '\\n',  getattr(np, 'corrcoef')(hares,lynxes),'\\n')\n",
    "print('correlations: hares carrots', '\\n',  getattr(np, 'corrcoef')(hares,carrots),'\\n')\n",
    "print('correlations: carrots lynxes', '\\n',  getattr(np, 'corrcoef')(carrots,lynxes),'\\n')\n",
    "\n",
    "\n",
    "tit=[\"hares\",\"lynxes\",\"carrots\"]\n",
    "\n",
    "mmax=np.argmax(data, axis=1)\n",
    "for index,i in enumerate(mmax):\n",
    "    print(years[index],tit[i-1])\n"
   ]
  },
  {
   "cell_type": "code",
   "execution_count": null,
   "metadata": {},
   "outputs": [],
   "source": []
  },
  {
   "cell_type": "code",
   "execution_count": null,
   "metadata": {},
   "outputs": [],
   "source": []
  }
 ],
 "metadata": {
  "kernelspec": {
   "display_name": "Python 3",
   "language": "python",
   "name": "python3"
  },
  "language_info": {
   "codemirror_mode": {
    "name": "ipython",
    "version": 3
   },
   "file_extension": ".py",
   "mimetype": "text/x-python",
   "name": "python",
   "nbconvert_exporter": "python",
   "pygments_lexer": "ipython3",
   "version": "3.7.0"
  }
 },
 "nbformat": 4,
 "nbformat_minor": 2
}
